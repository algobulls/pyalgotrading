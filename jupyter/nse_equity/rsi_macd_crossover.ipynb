{
 "cells": [
  {
   "cell_type": "markdown",
   "id": "6d0215cb",
   "metadata": {},
   "source": [
    "# Imports"
   ]
  },
  {
   "cell_type": "code",
   "execution_count": null,
   "id": "75c411bf",
   "metadata": {},
   "outputs": [],
   "source": [
    "!pip install --upgrade pyalgotrading"
   ]
  },
  {
   "cell_type": "code",
   "execution_count": 1,
   "id": "65c12492",
   "metadata": {},
   "outputs": [],
   "source": [
    "from pyalgotrading.algobulls import AlgoBullsConnection"
   ]
  },
  {
   "cell_type": "markdown",
   "id": "7b86fcaa",
   "metadata": {},
   "source": [
    "# Connection"
   ]
  },
  {
   "cell_type": "code",
   "execution_count": 2,
   "id": "30a6024a",
   "metadata": {},
   "outputs": [],
   "source": [
    "connection = AlgoBullsConnection()"
   ]
  },
  {
   "cell_type": "code",
   "execution_count": 3,
   "id": "42c4f917",
   "metadata": {},
   "outputs": [
    {
     "name": "stdout",
     "output_type": "stream",
     "text": [
      "Please login to this URL to get your unique token: https://app.algobulls.com/settings?section=developerOptions\n"
     ]
    }
   ],
   "source": [
    "connection.get_token_url()"
   ]
  },
  {
   "cell_type": "code",
   "execution_count": 4,
   "id": "1e18dfca",
   "metadata": {},
   "outputs": [
    {
     "name": "stdout",
     "output_type": "stream",
     "text": [
      "Access token is valid.\n"
     ]
    }
   ],
   "source": [
    "API_TOKEN = \"39394ea25014909e2c45b4210fe78d77f5440470\"\n",
    "connection.set_access_token(API_TOKEN)"
   ]
  },
  {
   "cell_type": "markdown",
   "id": "654e41e6",
   "metadata": {},
   "source": [
    "# Strategy Creation"
   ]
  },
  {
   "cell_type": "markdown",
   "id": "50833fac",
   "metadata": {},
   "source": [
    "## Import Strategy from pyaglostrategypool"
   ]
  },
  {
   "cell_type": "code",
   "execution_count": 5,
   "id": "3f854025",
   "metadata": {},
   "outputs": [
    {
     "name": "stdout",
     "output_type": "stream",
     "text": [
      "--2024-01-13 23:07:19--  https://raw.githubusercontent.com/algobulls/pyalgostrategypool/master/pyalgostrategypool/rsi_macd_crossover/_strategy.py\n",
      "Resolving raw.githubusercontent.com (raw.githubusercontent.com)... 185.199.111.133, 185.199.110.133, 185.199.109.133, ...\n",
      "Connecting to raw.githubusercontent.com (raw.githubusercontent.com)|185.199.111.133|:443... connected.\n",
      "HTTP request sent, awaiting response... 200 OK\n",
      "Length: 3704 (3.6K) [text/plain]\n",
      "Saving to: ‘rsi_macd_crossover.py’\n",
      "\n",
      "rsi_macd_crossover. 100%[===================>]   3.62K  --.-KB/s    in 0s      \n",
      "\n",
      "2024-01-13 23:07:19 (46.6 MB/s) - ‘rsi_macd_crossover.py’ saved [3704/3704]\n",
      "\n"
     ]
    }
   ],
   "source": [
    "! wget -O rsi_macd_crossover.py https://raw.githubusercontent.com/algobulls/pyalgostrategypool/master/pyalgostrategypool/rsi_macd_crossover/_strategy.py\n",
    "! sed -i '1s/^/from pyalgotrading.strategy import StrategyBase\\n/' rsi_macd_crossover.py"
   ]
  },
  {
   "cell_type": "code",
   "execution_count": 6,
   "id": "6cbd40df",
   "metadata": {},
   "outputs": [],
   "source": [
    "from rsi_macd_crossover import RSIMACDCrossover as strategy_cls"
   ]
  },
  {
   "cell_type": "code",
   "execution_count": 7,
   "id": "c384de4f",
   "metadata": {},
   "outputs": [
    {
     "data": {
      "text/plain": [
       "{'message': 'Strategy saved successfully',\n",
       " 'cstcId': 136419,\n",
       " 'strategyId': '3cc07957398b4ffb94e12a68a45e4ea0'}"
      ]
     },
     "execution_count": 7,
     "metadata": {},
     "output_type": "execute_result"
    }
   ],
   "source": [
    "response = connection.create_strategy(strategy_cls, overwrite=True)\n",
    "response"
   ]
  },
  {
   "cell_type": "code",
   "execution_count": 8,
   "id": "bc039bb9",
   "metadata": {},
   "outputs": [],
   "source": [
    "strategy = response['strategyId']"
   ]
  },
  {
   "cell_type": "markdown",
   "id": "a9e1d31a",
   "metadata": {},
   "source": [
    "# Strategy Testing"
   ]
  },
  {
   "cell_type": "markdown",
   "id": "a7b38f61",
   "metadata": {},
   "source": [
    "## Instruments Searching (optional)"
   ]
  },
  {
   "cell_type": "code",
   "execution_count": 9,
   "id": "a1184089",
   "metadata": {},
   "outputs": [
    {
     "data": {
      "text/plain": [
       "[{'id': 28, 'value': 'NSE:HEROMOTOCO'},\n",
       " {'id': 1672355, 'value': 'NSE:HEROMOTOCO.AF'},\n",
       " {'id': 1672479, 'value': 'NSE:HEROMOTOCO.BL'},\n",
       " {'id': 2316395, 'value': 'NSE:HEROMOTOCO.L1'},\n",
       " {'id': 2041177, 'value': 'NSE:HEROMOTOCO.R1'},\n",
       " {'id': 2041176, 'value': 'NSE:HEROMOTOCO.V1'},\n",
       " {'id': 24609, 'value': 'NSE:HEROMOTOCO20NOV2150CE'},\n",
       " {'id': 24610, 'value': 'NSE:HEROMOTOCO20NOV2150PE'},\n",
       " {'id': 24611, 'value': 'NSE:HEROMOTOCO20NOV2200CE'},\n",
       " {'id': 24612, 'value': 'NSE:HEROMOTOCO20NOV2200PE'}]"
      ]
     },
     "execution_count": 9,
     "metadata": {},
     "output_type": "execute_result"
    }
   ],
   "source": [
    "instrument = connection.search_instrument('HEROMOTOCO', exchange='NSE')\n",
    "instrument"
   ]
  },
  {
   "cell_type": "markdown",
   "id": "e5b3be24",
   "metadata": {},
   "source": [
    "## Setup Parameters"
   ]
  },
  {
   "cell_type": "code",
   "execution_count": 10,
   "id": "47e34ee8",
   "metadata": {},
   "outputs": [],
   "source": [
    "parameters = {\n",
    "    'OVERBOUGHT_VALUE': 85,\n",
    "    'OVERSOLD_VALUE': 15,\n",
    "    'TIMEPERIOD_FAST': 12,\n",
    "    'TIMEPERIOD_RSI': 3,\n",
    "    'TIMEPERIOD_SIGNAL': 9,\n",
    "    'TIMEPERIOD_SLOW': 26\n",
    "}"
   ]
  },
  {
   "cell_type": "code",
   "execution_count": 11,
   "id": "94b0c68f",
   "metadata": {},
   "outputs": [],
   "source": [
    "initial_virtual_funds = 1000000000     # in Rupees"
   ]
  },
  {
   "cell_type": "markdown",
   "id": "f6130ef7",
   "metadata": {},
   "source": [
    "## Backtesting"
   ]
  },
  {
   "cell_type": "markdown",
   "id": "f762f9a8",
   "metadata": {},
   "source": [
    "### Start"
   ]
  },
  {
   "cell_type": "code",
   "execution_count": 12,
   "id": "a7e94f6c",
   "metadata": {},
   "outputs": [
    {
     "name": "stdout",
     "output_type": "stream",
     "text": [
      "\n",
      "Starting the strategy 'RSI MACD Crossover' in BACKTESTING mode...\n",
      "╒═════════════════════════╤═══════════════════════════╕\n",
      "│ Config                  │ Value                     │\n",
      "╞═════════════════════════╪═══════════════════════════╡\n",
      "│ Strategy Name           │ RSI MACD Crossover        │\n",
      "├─────────────────────────┼───────────────────────────┤\n",
      "│ Trading Type            │ BACKTESTING               │\n",
      "├─────────────────────────┼───────────────────────────┤\n",
      "│ Instrument(s)           │ ['NSE:HEROMOTOCO']        │\n",
      "├─────────────────────────┼───────────────────────────┤\n",
      "│ Quantity/Lots           │ 2                         │\n",
      "├─────────────────────────┼───────────────────────────┤\n",
      "│ Start Timestamp         │ 2021-08-01 09:15:00+05:30 │\n",
      "├─────────────────────────┼───────────────────────────┤\n",
      "│ End Timestamp           │ 2023-07-31 15:30:00+05:30 │\n",
      "├─────────────────────────┼───────────────────────────┤\n",
      "│ Parameters              │ {'OVERBOUGHT_VALUE': 85,  │\n",
      "│                         │  'OVERSOLD_VALUE': 15,    │\n",
      "│                         │  'TIMEPERIOD_FAST': 12,   │\n",
      "│                         │  'TIMEPERIOD_RSI': 3,     │\n",
      "│                         │  'TIMEPERIOD_SIGNAL': 9,  │\n",
      "│                         │  'TIMEPERIOD_SLOW': 26}   │\n",
      "├─────────────────────────┼───────────────────────────┤\n",
      "│ Candle                  │ 60 Minutes                │\n",
      "├─────────────────────────┼───────────────────────────┤\n",
      "│ Mode                    │ INTRADAY                  │\n",
      "├─────────────────────────┼───────────────────────────┤\n",
      "│ Initial Funds (Virtual) │ 1000000000.0              │\n",
      "╘═════════════════════════╧═══════════════════════════╛\n",
      "\n",
      "All the trades belonging to this strategy have been deleted successfully.\n",
      "Setting Strategy Config... Success.\n",
      "Submitting BACKTESTING job... Success.\n"
     ]
    }
   ],
   "source": [
    "connection.backtest(\n",
    "    strategy=strategy, \n",
    "    start='2021-08-01 09:15 +0530', \n",
    "    end='2023-07-31 15:30 +0530', \n",
    "    instrument='NSE:HEROMOTOCO', \n",
    "    lots=2,\n",
    "    parameters=parameters, \n",
    "    candle='1 hour',\n",
    "    initial_funds_virtual=initial_virtual_funds\n",
    "\n",
    ")"
   ]
  },
  {
   "cell_type": "markdown",
   "id": "dfc8989b",
   "metadata": {},
   "source": [
    "### Status"
   ]
  },
  {
   "cell_type": "code",
   "execution_count": 13,
   "id": "5dc631ee",
   "metadata": {},
   "outputs": [
    {
     "data": {
      "text/plain": [
       "{'message': 'STARTED', 'status': 2}"
      ]
     },
     "execution_count": 13,
     "metadata": {},
     "output_type": "execute_result"
    }
   ],
   "source": [
    "connection.get_backtesting_job_status(strategy)"
   ]
  },
  {
   "cell_type": "markdown",
   "id": "64965bbb",
   "metadata": {},
   "source": [
    "### Logs"
   ]
  },
  {
   "cell_type": "code",
   "execution_count": null,
   "id": "f5bd56eb",
   "metadata": {},
   "outputs": [
    {
     "data": {
      "application/vnd.jupyter.widget-view+json": {
       "model_id": "80b412dd886c4bb2a848b8990dd72c26",
       "version_major": 2,
       "version_minor": 0
      },
      "text/plain": [
       "Execution Progress:   0%|          | 0/63008100.0 [00:00<?]"
      ]
     },
     "metadata": {},
     "output_type": "display_data"
    }
   ],
   "source": [
    "logs = connection.get_backtesting_logs(strategy)"
   ]
  },
  {
   "cell_type": "code",
   "execution_count": null,
   "id": "c29885b4",
   "metadata": {},
   "outputs": [],
   "source": [
    "print(logs)"
   ]
  },
  {
   "cell_type": "markdown",
   "id": "ef4e927c",
   "metadata": {},
   "source": [
    "### Stop"
   ]
  },
  {
   "cell_type": "code",
   "execution_count": null,
   "id": "03b6c1ba",
   "metadata": {},
   "outputs": [],
   "source": [
    "connection.stop_backtesting_job(strategy)"
   ]
  },
  {
   "cell_type": "markdown",
   "id": "4d02ae57",
   "metadata": {},
   "source": [
    "### Profit and Loss Reports"
   ]
  },
  {
   "cell_type": "code",
   "execution_count": null,
   "id": "b5cebabd",
   "metadata": {
    "scrolled": true
   },
   "outputs": [],
   "source": [
    "pnl_reports = connection.get_backtesting_report_pnl_table(strategy)\n",
    "pnl_reports"
   ]
  },
  {
   "cell_type": "markdown",
   "id": "2f1c6409",
   "metadata": {},
   "source": [
    "### Statistics Reports"
   ]
  },
  {
   "cell_type": "markdown",
   "id": "73c04b07",
   "metadata": {},
   "source": [
    "#### Statistics"
   ]
  },
  {
   "cell_type": "code",
   "execution_count": null,
   "id": "f8477204",
   "metadata": {},
   "outputs": [],
   "source": [
    "connection.get_backtesting_report_statistics(strategy)"
   ]
  },
  {
   "cell_type": "markdown",
   "id": "37978a4d",
   "metadata": {},
   "source": [
    "#### Quantstats Full Report"
   ]
  },
  {
   "cell_type": "code",
   "execution_count": null,
   "id": "e2ee9bce",
   "metadata": {},
   "outputs": [],
   "source": [
    "connection.get_backtesting_report_statistics(strategy, report='full', html_dump=True )"
   ]
  },
  {
   "cell_type": "markdown",
   "id": "678cdcce",
   "metadata": {},
   "source": [
    "### Order History"
   ]
  },
  {
   "cell_type": "code",
   "execution_count": null,
   "id": "54fe8c11",
   "metadata": {},
   "outputs": [],
   "source": [
    "order_history = connection.get_backtesting_report_order_history(strategy)\n",
    "print(order_history)"
   ]
  },
  {
   "cell_type": "markdown",
   "id": "71c6c5f5",
   "metadata": {},
   "source": [
    "---"
   ]
  },
  {
   "cell_type": "markdown",
   "id": "68dae175",
   "metadata": {},
   "source": [
    "## Papertrading"
   ]
  },
  {
   "cell_type": "markdown",
   "id": "b20827a5",
   "metadata": {},
   "source": [
    "### Start"
   ]
  },
  {
   "cell_type": "code",
   "execution_count": null,
   "id": "42c10bb5",
   "metadata": {
    "scrolled": true
   },
   "outputs": [],
   "source": [
    "connection.papertrade(\n",
    "    strategy=strategy, \n",
    "    start='9:15 +0530', \n",
    "    end='15:00 +0530',  \n",
    "    instruments='NSE:ADANIPOWER', \n",
    "    lots=5,\n",
    "    parameters=parameters, \n",
    "    candle='1 minute',\n",
    ")"
   ]
  },
  {
   "cell_type": "markdown",
   "id": "757fb1c6",
   "metadata": {},
   "source": [
    "### Status"
   ]
  },
  {
   "cell_type": "code",
   "execution_count": null,
   "id": "7265a0f2",
   "metadata": {},
   "outputs": [],
   "source": [
    "connection.get_papertrading_job_status(strategy)"
   ]
  },
  {
   "cell_type": "markdown",
   "id": "37c0d0ac",
   "metadata": {},
   "source": [
    "### Logs"
   ]
  },
  {
   "cell_type": "code",
   "execution_count": null,
   "id": "15290341",
   "metadata": {},
   "outputs": [],
   "source": [
    "logs = connection.get_papertrading_logs(strategy)\n",
    "print(logs)"
   ]
  },
  {
   "cell_type": "markdown",
   "id": "245b4d93",
   "metadata": {},
   "source": [
    "### Stop"
   ]
  },
  {
   "cell_type": "code",
   "execution_count": null,
   "id": "191dc7dd",
   "metadata": {},
   "outputs": [],
   "source": []
  },
  {
   "cell_type": "markdown",
   "id": "99d3e882",
   "metadata": {},
   "source": [
    "### Profit and Loss Reports (Paper Trading)"
   ]
  },
  {
   "cell_type": "code",
   "execution_count": null,
   "id": "0c8c4a8a",
   "metadata": {},
   "outputs": [],
   "source": [
    "pnl_reports = connection.get_papertrading_report_pnl_table(strategy)\n",
    "pnl_reports"
   ]
  },
  {
   "cell_type": "markdown",
   "id": "2e79015e",
   "metadata": {},
   "source": [
    "### Statistics Reports (Paper Trading)"
   ]
  },
  {
   "cell_type": "markdown",
   "id": "474b0fa3",
   "metadata": {},
   "source": [
    "#### Statistics"
   ]
  },
  {
   "cell_type": "code",
   "execution_count": null,
   "id": "10e3013b",
   "metadata": {},
   "outputs": [],
   "source": [
    "connection.get_papertrading_report_statistics(strategy)"
   ]
  },
  {
   "cell_type": "markdown",
   "id": "a813295a",
   "metadata": {},
   "source": [
    "#### Quantstats Full Report"
   ]
  },
  {
   "cell_type": "code",
   "execution_count": null,
   "id": "265cb8bc",
   "metadata": {},
   "outputs": [],
   "source": [
    "connection.get_papertrading_report_statistics(strategy, mode='quantstats', report='full', html_dump=True)"
   ]
  },
  {
   "cell_type": "markdown",
   "id": "49cb9a81",
   "metadata": {},
   "source": [
    "### Order History (Paper Trading)"
   ]
  },
  {
   "cell_type": "code",
   "execution_count": null,
   "id": "d18fb124",
   "metadata": {},
   "outputs": [],
   "source": [
    "order_history = connection.get_papertrading_report_order_history(strategy)\n",
    "print(order_history)"
   ]
  },
  {
   "cell_type": "markdown",
   "id": "d41a6968",
   "metadata": {},
   "source": [
    "---"
   ]
  }
 ],
 "metadata": {
  "kernelspec": {
   "display_name": "Python 3 (ipykernel)",
   "language": "python",
   "name": "python3"
  },
  "language_info": {
   "codemirror_mode": {
    "name": "ipython",
    "version": 3
   },
   "file_extension": ".py",
   "mimetype": "text/x-python",
   "name": "python",
   "nbconvert_exporter": "python",
   "pygments_lexer": "ipython3",
   "version": "3.10.13"
  }
 },
 "nbformat": 4,
 "nbformat_minor": 5
}
