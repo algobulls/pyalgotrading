{
 "cells": [
  {
   "cell_type": "markdown",
   "id": "6d0215cb",
   "metadata": {},
   "source": [
    "# Imports"
   ]
  },
  {
   "cell_type": "code",
   "execution_count": null,
   "id": "75c411bf",
   "metadata": {},
   "outputs": [],
   "source": [
    "!pip install --upgrade pyalgotrading"
   ]
  },
  {
   "cell_type": "code",
   "execution_count": null,
   "id": "65c12492",
   "metadata": {},
   "outputs": [],
   "source": [
    "from pyalgotrading.algobulls import AlgoBullsConnection"
   ]
  },
  {
   "cell_type": "markdown",
   "id": "7b86fcaa",
   "metadata": {},
   "source": [
    "# Connection"
   ]
  },
  {
   "cell_type": "code",
   "execution_count": null,
   "id": "30a6024a",
   "metadata": {},
   "outputs": [],
   "source": [
    "connection = AlgoBullsConnection()"
   ]
  },
  {
   "cell_type": "code",
   "execution_count": null,
   "id": "42c4f917",
   "metadata": {},
   "outputs": [],
   "source": [
    "connection.get_token_url()"
   ]
  },
  {
   "cell_type": "code",
   "execution_count": null,
   "id": "1e18dfca",
   "metadata": {},
   "outputs": [],
   "source": [
    "API_TOKEN = \"33018c2bbd554247ef271b945a42450a46bd6b8f\"\n",
    "connection.set_access_token(API_TOKEN)"
   ]
  },
  {
   "cell_type": "markdown",
   "id": "654e41e6",
   "metadata": {},
   "source": [
    "# Strategy Creation"
   ]
  },
  {
   "cell_type": "markdown",
   "id": "07450af0",
   "metadata": {},
   "source": [
    "## Import Strategy from pyaglostrategypool"
   ]
  },
  {
   "cell_type": "code",
   "execution_count": null,
   "id": "c878563b",
   "metadata": {},
   "outputs": [],
   "source": [
    "! wget -O options_box_spread.py https://raw.githubusercontent.com/algobulls/pyalgostrategypool/master/pyalgostrategypool/options_box_spread/_strategy.py\n",
    "! sed -i '1s/^/from pyalgotrading.strategy import StrategyBase\\n/' options_box_spread.py"
   ]
  },
  {
   "cell_type": "code",
   "execution_count": null,
   "id": "6cbd40df",
   "metadata": {},
   "outputs": [],
   "source": [
    "from options_box_spread import OptionsBoxSpread as strategy_cls"
   ]
  },
  {
   "cell_type": "code",
   "execution_count": null,
   "id": "c384de4f",
   "metadata": {},
   "outputs": [],
   "source": [
    "response = connection.create_strategy(strategy_cls, overwrite=True)\n",
    "response"
   ]
  },
  {
   "cell_type": "code",
   "execution_count": null,
   "id": "bc039bb9",
   "metadata": {},
   "outputs": [],
   "source": [
    "strategy = response['strategyId']"
   ]
  },
  {
   "cell_type": "markdown",
   "id": "a9e1d31a",
   "metadata": {},
   "source": [
    "# Strategy Testing"
   ]
  },
  {
   "cell_type": "markdown",
   "id": "a7b38f61",
   "metadata": {},
   "source": [
    "## Instruments Searching (optional)"
   ]
  },
  {
   "cell_type": "code",
   "execution_count": null,
   "id": "a1184089",
   "metadata": {},
   "outputs": [],
   "source": [
    "instrument = connection.search_instrument('NIFTY 50', exchange='NSE')\n",
    "instrument"
   ]
  },
  {
   "cell_type": "markdown",
   "id": "e5b3be24",
   "metadata": {},
   "source": [
    "## Setup Parameters"
   ]
  },
  {
   "cell_type": "code",
   "execution_count": null,
   "id": "47e34ee8",
   "metadata": {},
   "outputs": [],
   "source": [
    "parameters = {\n",
    "    # Leg 1\n",
    "    'LEG_ONE_TRANSACTION_TYPE': 1,   # BUY\n",
    "    'LEG_ONE_TRADING_SYMBOL_SUFFIX': 1,  # CE\n",
    "    'LEG_ONE_STRIKE_DIRECTION': 0,   # ITM\n",
    "    'LEG_ONE_NUMBER_OF_STRIKES': 0,\n",
    "\n",
    "    # Leg 2\n",
    "    'LEG_TWO_TRANSACTION_TYPE': 2,   # SELL\n",
    "    'LEG_TWO_TRADING_SYMBOL_SUFFIX': 1,  # CE\n",
    "    'LEG_TWO_STRIKE_DIRECTION': 2,   # OTM\n",
    "    'LEG_TWO_NUMBER_OF_STRIKES': 2,\n",
    "\n",
    "    # Leg 3\n",
    "    'LEG_THREE_TRANSACTION_TYPE': 1,  # BUY\n",
    "    'LEG_THREE_TRADING_SYMBOL_SUFFIX': 2,  # PE\n",
    "    'LEG_THREE_STRIKE_DIRECTION': 2,  # OTM\n",
    "    'LEG_THREE_NUMBER_OF_STRIKES': 2,\n",
    "\n",
    "    # Leg 4\n",
    "    'LEG_FOUR_TRANSACTION_TYPE': 2,   # SELL\n",
    "    'LEG_FOUR_TRADING_SYMBOL_SUFFIX': 2,  # PE\n",
    "    'LEG_FOUR_STRIKE_DIRECTION': 0,   # ITM\n",
    "    'LEG_FOUR_NUMBER_OF_STRIKES': 0,\n",
    "\n",
    "    # Arbitrage parameters\n",
    "    'RISK_FREE_RATE': 0.01,\n",
    "    'EXIT_THRESHOLD': 0.01,\n",
    "    'TRANSACTION_COST_PERCENT': 0.0\n",
    "}"
   ]
  },
  {
   "cell_type": "code",
   "execution_count": null,
   "id": "3b40ab51",
   "metadata": {},
   "outputs": [],
   "source": [
    "initial_virtual_funds = 1500000     # in Rupees"
   ]
  },
  {
   "cell_type": "markdown",
   "id": "f6130ef7",
   "metadata": {},
   "source": [
    "## Backtesting"
   ]
  },
  {
   "cell_type": "markdown",
   "id": "f762f9a8",
   "metadata": {},
   "source": [
    "### Start"
   ]
  },
  {
   "cell_type": "code",
   "execution_count": null,
   "id": "a7e94f6c",
   "metadata": {},
   "outputs": [],
   "source": [
    "connection.backtest(\n",
    "    strategy=strategy, \n",
    "    start='2021-08-01 09:15 +0530', \n",
    "    end='2023-07-31 15:30 +0530', \n",
    "    instrument='NSE:NIFTY 50', \n",
    "    lots=10,\n",
    "    parameters=parameters, \n",
    "    candle='1 hour',\n",
    "    initial_funds_virtual=initial_virtual_funds\n",
    "\n",
    ")"
   ]
  },
  {
   "cell_type": "markdown",
   "id": "dfc8989b",
   "metadata": {},
   "source": [
    "### Status"
   ]
  },
  {
   "cell_type": "code",
   "execution_count": null,
   "id": "5dc631ee",
   "metadata": {},
   "outputs": [],
   "source": [
    "connection.get_backtesting_job_status(strategy)"
   ]
  },
  {
   "cell_type": "markdown",
   "id": "64965bbb",
   "metadata": {},
   "source": [
    "### Logs"
   ]
  },
  {
   "cell_type": "code",
   "execution_count": null,
   "id": "86a38e7b",
   "metadata": {},
   "outputs": [],
   "source": [
    "logs = connection.get_backtesting_logs(strategy)"
   ]
  },
  {
   "cell_type": "code",
   "execution_count": null,
   "id": "12bf1334",
   "metadata": {},
   "outputs": [],
   "source": [
    "print(logs)"
   ]
  },
  {
   "cell_type": "markdown",
   "id": "ef4e927c",
   "metadata": {},
   "source": [
    "### Stop"
   ]
  },
  {
   "cell_type": "code",
   "execution_count": null,
   "id": "03b6c1ba",
   "metadata": {},
   "outputs": [],
   "source": [
    "connection.stop_backtesting_job(strategy)"
   ]
  },
  {
   "cell_type": "markdown",
   "id": "4d02ae57",
   "metadata": {},
   "source": [
    "### Profit and Loss Reports"
   ]
  },
  {
   "cell_type": "code",
   "execution_count": null,
   "id": "b5cebabd",
   "metadata": {
    "scrolled": true
   },
   "outputs": [],
   "source": [
    "pnl_reports = connection.get_backtesting_report_pnl_table(strategy)\n",
    "pnl_reports"
   ]
  },
  {
   "cell_type": "markdown",
   "id": "2f1c6409",
   "metadata": {},
   "source": [
    "### Statistics Reports"
   ]
  },
  {
   "cell_type": "markdown",
   "id": "73c04b07",
   "metadata": {},
   "source": [
    "#### Statistics"
   ]
  },
  {
   "cell_type": "code",
   "execution_count": null,
   "id": "f8477204",
   "metadata": {
    "scrolled": false
   },
   "outputs": [],
   "source": [
    "connection.get_backtesting_report_statistics(strategy, initial_funds=initial_virtual_funds)"
   ]
  },
  {
   "cell_type": "markdown",
   "id": "37978a4d",
   "metadata": {},
   "source": [
    "#### Quantstats Full Report"
   ]
  },
  {
   "cell_type": "code",
   "execution_count": null,
   "id": "e2ee9bce",
   "metadata": {
    "scrolled": false
   },
   "outputs": [],
   "source": [
    "connection.get_backtesting_report_statistics(strategy, report='full', html_dump=True, initial_funds=initial_virtual_funds)"
   ]
  },
  {
   "cell_type": "markdown",
   "id": "678cdcce",
   "metadata": {},
   "source": [
    "### Order History"
   ]
  },
  {
   "cell_type": "code",
   "execution_count": null,
   "id": "54fe8c11",
   "metadata": {},
   "outputs": [],
   "source": [
    "order_history = connection.get_backtesting_report_order_history(strategy)\n",
    "print(order_history)"
   ]
  },
  {
   "cell_type": "markdown",
   "id": "1a03216d",
   "metadata": {},
   "source": [
    "---"
   ]
  },
  {
   "cell_type": "markdown",
   "id": "68dae175",
   "metadata": {},
   "source": [
    "## Papertrading"
   ]
  },
  {
   "cell_type": "markdown",
   "id": "b20827a5",
   "metadata": {},
   "source": [
    "### Start"
   ]
  },
  {
   "cell_type": "code",
   "execution_count": null,
   "id": "42c10bb5",
   "metadata": {},
   "outputs": [],
   "source": [
    "connection.papertrade(\n",
    "    strategy=strategy, \n",
    "    start='9:15 +0530', \n",
    "    end='15:00 +0530',  \n",
    "    instruments='NSE:SBIN', \n",
    "    lots=5,\n",
    "    parameters=parameters, \n",
    "    candle='1 minute',\n",
    ")"
   ]
  },
  {
   "cell_type": "markdown",
   "id": "757fb1c6",
   "metadata": {},
   "source": [
    "### Status"
   ]
  },
  {
   "cell_type": "code",
   "execution_count": null,
   "id": "7265a0f2",
   "metadata": {},
   "outputs": [],
   "source": [
    "connection.get_papertrading_job_status(strategy)"
   ]
  },
  {
   "cell_type": "markdown",
   "id": "37c0d0ac",
   "metadata": {},
   "source": [
    "### Logs"
   ]
  },
  {
   "cell_type": "code",
   "execution_count": null,
   "id": "15290341",
   "metadata": {},
   "outputs": [],
   "source": [
    "logs = connection.get_papertrading_logs(strategy)\n",
    "print(logs)"
   ]
  },
  {
   "cell_type": "markdown",
   "id": "245b4d93",
   "metadata": {},
   "source": [
    "### Stop"
   ]
  },
  {
   "cell_type": "code",
   "execution_count": null,
   "id": "191dc7dd",
   "metadata": {},
   "outputs": [],
   "source": [
    "connection.stop_papertrading_job(strategy)"
   ]
  },
  {
   "cell_type": "markdown",
   "id": "99d3e882",
   "metadata": {},
   "source": [
    "### Profit and Loss Reports (Paper Trading)"
   ]
  },
  {
   "cell_type": "code",
   "execution_count": null,
   "id": "0c8c4a8a",
   "metadata": {},
   "outputs": [],
   "source": [
    "pnl_reports = connection.get_papertrading_report_pnl_table(strategy)\n",
    "pnl_reports"
   ]
  },
  {
   "cell_type": "markdown",
   "id": "2e79015e",
   "metadata": {},
   "source": [
    "### Statistics Reports (Paper Trading)"
   ]
  },
  {
   "cell_type": "markdown",
   "id": "474b0fa3",
   "metadata": {},
   "source": [
    "#### Statistics"
   ]
  },
  {
   "cell_type": "code",
   "execution_count": null,
   "id": "10e3013b",
   "metadata": {},
   "outputs": [],
   "source": [
    "connection.get_papertrading_report_statistics(strategy)"
   ]
  },
  {
   "cell_type": "markdown",
   "id": "a813295a",
   "metadata": {},
   "source": [
    "#### Quantstats Full Report"
   ]
  },
  {
   "cell_type": "code",
   "execution_count": null,
   "id": "265cb8bc",
   "metadata": {},
   "outputs": [],
   "source": [
    "connection.get_papertrading_report_statistics(strategy, mode='quantstats', report='full', html_dump=True)"
   ]
  },
  {
   "cell_type": "markdown",
   "id": "49cb9a81",
   "metadata": {},
   "source": [
    "### Order History (Paper Trading)"
   ]
  },
  {
   "cell_type": "code",
   "execution_count": null,
   "id": "d18fb124",
   "metadata": {},
   "outputs": [],
   "source": [
    "order_history = connection.get_papertrading_report_order_history(strategy)\n",
    "print(order_history)"
   ]
  },
  {
   "cell_type": "markdown",
   "id": "c2770703",
   "metadata": {},
   "source": [
    "---"
   ]
  },
  {
   "cell_type": "markdown",
   "id": "38e7f216",
   "metadata": {},
   "source": [
    "## Live Trading (Real Trading)"
   ]
  },
  {
   "cell_type": "markdown",
   "id": "af456c3e",
   "metadata": {},
   "source": [
    "### Start"
   ]
  },
  {
   "cell_type": "code",
   "execution_count": null,
   "id": "8d233528",
   "metadata": {},
   "outputs": [],
   "source": [
    "connection.realtrade(\n",
    "    strategy=strategy, \n",
    "    start='8:00 +0530', \n",
    "    end='15:00 +0530', \n",
    "    instruments='NSE:SBIN', \n",
    "    lots=5,\n",
    "    parameters=parameters, \n",
    "    candle='1 minute',\n",
    "    broking_id=73,\n",
    "    broking_details=broking_details\n",
    ")"
   ]
  },
  {
   "cell_type": "markdown",
   "id": "2532a25a",
   "metadata": {},
   "source": [
    "### Status"
   ]
  },
  {
   "cell_type": "code",
   "execution_count": null,
   "id": "555bae34",
   "metadata": {},
   "outputs": [],
   "source": [
    "connection.get_realtrading_job_status(strategy)"
   ]
  },
  {
   "cell_type": "markdown",
   "id": "ec2be17c",
   "metadata": {},
   "source": [
    "### Logs"
   ]
  },
  {
   "cell_type": "code",
   "execution_count": null,
   "id": "86e376ba",
   "metadata": {},
   "outputs": [],
   "source": [
    "logs = connection.get_realtrading_logs(strategy)\n",
    "print(logs)"
   ]
  },
  {
   "cell_type": "markdown",
   "id": "8f93bd8f",
   "metadata": {},
   "source": [
    "### Stop"
   ]
  },
  {
   "cell_type": "code",
   "execution_count": null,
   "id": "c833eb6b",
   "metadata": {},
   "outputs": [],
   "source": [
    "connection.stop_realtrading_job(strategy)"
   ]
  },
  {
   "cell_type": "markdown",
   "id": "2e409e44",
   "metadata": {},
   "source": [
    "### Profit and Loss Reports (Live Trading)"
   ]
  },
  {
   "cell_type": "code",
   "execution_count": null,
   "id": "97c0a5f8",
   "metadata": {},
   "outputs": [],
   "source": [
    "pnl_reports = connection.get_realtrading_report_pnl_table(strategy)\n",
    "pnl_reports"
   ]
  },
  {
   "cell_type": "markdown",
   "id": "ede0736e",
   "metadata": {},
   "source": [
    "### Statistics Reports (Live Trading)"
   ]
  },
  {
   "cell_type": "markdown",
   "id": "91c65443",
   "metadata": {},
   "source": [
    "#### Statistics"
   ]
  },
  {
   "cell_type": "code",
   "execution_count": null,
   "id": "f2c1c376",
   "metadata": {},
   "outputs": [],
   "source": [
    "connection.get_realtrading_report_statistics(strategy)"
   ]
  },
  {
   "cell_type": "markdown",
   "id": "5ff9f9ec",
   "metadata": {},
   "source": [
    "#### Quantstats Full Report"
   ]
  },
  {
   "cell_type": "code",
   "execution_count": null,
   "id": "238c1d1e",
   "metadata": {},
   "outputs": [],
   "source": [
    "connection.get_realtrading_report_statistics(strategy, mode='quantstats', report='full', html_dump=True)"
   ]
  }
 ],
 "metadata": {
  "kernelspec": {
   "display_name": "Python 3 (ipykernel)",
   "language": "python",
   "name": "python3"
  },
  "language_info": {
   "codemirror_mode": {
    "name": "ipython",
    "version": 3
   },
   "file_extension": ".py",
   "mimetype": "text/x-python",
   "name": "python",
   "nbconvert_exporter": "python",
   "pygments_lexer": "ipython3",
   "version": "3.9.12"
  }
 },
 "nbformat": 4,
 "nbformat_minor": 5
}
