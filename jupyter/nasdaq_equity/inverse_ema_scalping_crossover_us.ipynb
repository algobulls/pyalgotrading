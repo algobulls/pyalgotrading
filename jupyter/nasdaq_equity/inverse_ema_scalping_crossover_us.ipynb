{
 "cells": [
  {
   "cell_type": "markdown",
   "id": "6d0215cb",
   "metadata": {},
   "source": [
    "# Imports"
   ]
  },
  {
   "cell_type": "code",
   "execution_count": null,
   "id": "75c411bf",
   "metadata": {},
   "outputs": [],
   "source": [
    "!pip install --upgrade pyalgotrading"
   ]
  },
  {
   "cell_type": "code",
   "execution_count": 1,
   "id": "65c12492",
   "metadata": {},
   "outputs": [],
   "source": [
    "from pyalgotrading.algobulls import AlgoBullsConnection"
   ]
  },
  {
   "cell_type": "markdown",
   "id": "7b86fcaa",
   "metadata": {},
   "source": [
    "# Connection"
   ]
  },
  {
   "cell_type": "code",
   "execution_count": 2,
   "id": "30a6024a",
   "metadata": {},
   "outputs": [],
   "source": [
    "connection = AlgoBullsConnection()"
   ]
  },
  {
   "cell_type": "code",
   "execution_count": 3,
   "id": "42c4f917",
   "metadata": {},
   "outputs": [
    {
     "name": "stdout",
     "output_type": "stream",
     "text": [
      "Please login to this URL to get your unique token: https://app.algobulls.com/settings?section=developerOptions\n"
     ]
    }
   ],
   "source": [
    "connection.get_token_url()"
   ]
  },
  {
   "cell_type": "code",
   "execution_count": 4,
   "id": "1e18dfca",
   "metadata": {},
   "outputs": [
    {
     "name": "stdout",
     "output_type": "stream",
     "text": [
      "Access token is valid.\n"
     ]
    }
   ],
   "source": [
    "API_TOKEN = \"39394ea25014909e2c45b4210fe78d77f5440470\"\n",
    "connection.set_access_token(API_TOKEN)"
   ]
  },
  {
   "cell_type": "markdown",
   "id": "5fa8a138-d6bc-4e62-9172-a32a9f678282",
   "metadata": {},
   "source": [
    "#### NOTE: Before creating or executing the strategy, ensure your Alpaca account is binded with your AlgoBulls account (as shown below). To know more click [here](https://algobulls.github.io/pyalgotrading/brokers/connecting_alpaca/).![Reference](https://algobulls.github.io/pyalgotrading/python_build/imgs_v2/python_build_Oauth_successful.png)"
   ]
  },
  {
   "cell_type": "markdown",
   "id": "654e41e6",
   "metadata": {},
   "source": [
    "# Strategy Creation"
   ]
  },
  {
   "cell_type": "markdown",
   "id": "34472a10",
   "metadata": {},
   "source": [
    "## Import Strategy from pyalgostrategypool"
   ]
  },
  {
   "cell_type": "code",
   "execution_count": 5,
   "id": "69bd009c",
   "metadata": {},
   "outputs": [
    {
     "name": "stdout",
     "output_type": "stream",
     "text": [
      "--2024-01-13 23:32:47--  https://raw.githubusercontent.com/algobulls/pyalgostrategypool/master/pyalgostrategypool/inverse_ema_scalping_regular_order/_strategy.py\n",
      "Resolving raw.githubusercontent.com (raw.githubusercontent.com)... 185.199.108.133, 185.199.111.133, 185.199.110.133, ...\n",
      "Connecting to raw.githubusercontent.com (raw.githubusercontent.com)|185.199.108.133|:443... connected.\n",
      "HTTP request sent, awaiting response... 200 OK\n",
      "Length: 2664 (2.6K) [text/plain]\n",
      "Saving to: ‘inverse_ema_scalping_crossover_us.py’\n",
      "\n",
      "inverse_ema_scalpin 100%[===================>]   2.60K  --.-KB/s    in 0s      \n",
      "\n",
      "2024-01-13 23:32:47 (60.6 MB/s) - ‘inverse_ema_scalping_crossover_us.py’ saved [2664/2664]\n",
      "\n"
     ]
    }
   ],
   "source": [
    "! wget -O inverse_ema_scalping_crossover_us.py https://raw.githubusercontent.com/algobulls/pyalgostrategypool/master/pyalgostrategypool/inverse_ema_scalping_regular_order/_strategy.py\n",
    "! sed -i '1s/^/from pyalgotrading.strategy import StrategyBase\\n/' inverse_ema_scalping_crossover_us.py"
   ]
  },
  {
   "cell_type": "code",
   "execution_count": 6,
   "id": "6cbd40df",
   "metadata": {},
   "outputs": [],
   "source": [
    "from inverse_ema_scalping_crossover_us import InverseEMAScalpingRegularOrder as strategy_cls"
   ]
  },
  {
   "cell_type": "code",
   "execution_count": 7,
   "id": "c384de4f",
   "metadata": {},
   "outputs": [
    {
     "data": {
      "text/plain": [
       "{'message': 'Strategy saved successfully',\n",
       " 'cstcId': 139799,\n",
       " 'strategyId': '267b2c1bd87646b9b217f408ad6362ad'}"
      ]
     },
     "execution_count": 7,
     "metadata": {},
     "output_type": "execute_result"
    }
   ],
   "source": [
    "response = connection.create_strategy(strategy_cls, overwrite=True)\n",
    "response"
   ]
  },
  {
   "cell_type": "code",
   "execution_count": 8,
   "id": "bc039bb9",
   "metadata": {},
   "outputs": [],
   "source": [
    "strategy = response['strategyId']"
   ]
  },
  {
   "cell_type": "markdown",
   "id": "a9e1d31a",
   "metadata": {},
   "source": [
    "# Strategy Testing"
   ]
  },
  {
   "cell_type": "markdown",
   "id": "a7b38f61",
   "metadata": {},
   "source": [
    "## Instruments Searching (optional)"
   ]
  },
  {
   "cell_type": "code",
   "execution_count": 9,
   "id": "a1184089",
   "metadata": {},
   "outputs": [
    {
     "data": {
      "text/plain": [
       "'NASDAQ:AMZN'"
      ]
     },
     "execution_count": 9,
     "metadata": {},
     "output_type": "execute_result"
    }
   ],
   "source": [
    "instrument = connection.search_instrument('AMZN', exchange='NASDAQ')[0]['value']\n",
    "instrument"
   ]
  },
  {
   "cell_type": "markdown",
   "id": "e5b3be24",
   "metadata": {},
   "source": [
    "## Setup Parameters"
   ]
  },
  {
   "cell_type": "code",
   "execution_count": 10,
   "id": "47e34ee8",
   "metadata": {},
   "outputs": [],
   "source": [
    "parameters = {\n",
    "  'SMALLER_TIME_PERIOD': 12,\n",
    "  'LARGER_TIME_PERIOD': 20,\n",
    "}"
   ]
  },
  {
   "cell_type": "code",
   "execution_count": 11,
   "id": "8212373d",
   "metadata": {},
   "outputs": [],
   "source": [
    "initial_virtual_funds = 4000     # in dollars"
   ]
  },
  {
   "cell_type": "markdown",
   "id": "f6130ef7",
   "metadata": {},
   "source": [
    "## Backtesting"
   ]
  },
  {
   "cell_type": "markdown",
   "id": "9c674786-ab79-4e10-ad4e-7e93b7a780bc",
   "metadata": {},
   "source": [
    "#### NOTE: Ensure your Alpaca account is binded with your AlgoBulls account (as shown below). To know more click [here](https://algobulls.github.io/pyalgotrading/brokers/connecting_alpaca/)."
   ]
  },
  {
   "cell_type": "markdown",
   "id": "f762f9a8",
   "metadata": {},
   "source": [
    "### Start"
   ]
  },
  {
   "cell_type": "code",
   "execution_count": 12,
   "id": "a7e94f6c",
   "metadata": {},
   "outputs": [
    {
     "name": "stdout",
     "output_type": "stream",
     "text": [
      "\n",
      "Starting the strategy 'Inverse EMA Scalping Regular Order' in BACKTESTING mode...\n",
      "╒═════════════════════════╤═══════════════════════════════════════════════════════╕\n",
      "│ Config                  │ Value                                                 │\n",
      "╞═════════════════════════╪═══════════════════════════════════════════════════════╡\n",
      "│ Strategy Name           │ Inverse EMA Scalping Regular Order                    │\n",
      "├─────────────────────────┼───────────────────────────────────────────────────────┤\n",
      "│ Trading Type            │ BACKTESTING                                           │\n",
      "├─────────────────────────┼───────────────────────────────────────────────────────┤\n",
      "│ Instrument(s)           │ ['NASDAQ:AMZN']                                       │\n",
      "├─────────────────────────┼───────────────────────────────────────────────────────┤\n",
      "│ Quantity/Lots           │ 15                                                    │\n",
      "├─────────────────────────┼───────────────────────────────────────────────────────┤\n",
      "│ Start Timestamp         │ 2021-08-01 09:15:00-04:00                             │\n",
      "├─────────────────────────┼───────────────────────────────────────────────────────┤\n",
      "│ End Timestamp           │ 2023-07-31 15:30:00-04:00                             │\n",
      "├─────────────────────────┼───────────────────────────────────────────────────────┤\n",
      "│ Parameters              │ {'LARGER_TIME_PERIOD': 20, 'SMALLER_TIME_PERIOD': 12} │\n",
      "├─────────────────────────┼───────────────────────────────────────────────────────┤\n",
      "│ Candle                  │ 60 Minutes                                            │\n",
      "├─────────────────────────┼───────────────────────────────────────────────────────┤\n",
      "│ Mode                    │ INTRADAY                                              │\n",
      "├─────────────────────────┼───────────────────────────────────────────────────────┤\n",
      "│ Initial Funds (Virtual) │ 4000.0                                                │\n",
      "╘═════════════════════════╧═══════════════════════════════════════════════════════╛\n",
      "\n",
      "All the trades belonging to this strategy have been deleted successfully.\n",
      "Setting Strategy Config... Success.\n",
      "Submitting BACKTESTING job... Success.\n"
     ]
    }
   ],
   "source": [
    "connection.backtest(\n",
    "    strategy=strategy, \n",
    "    start='2021-08-01 09:15 -0400', \n",
    "    end='2023-07-31 15:30 -0400', \n",
    "    instrument='NASDAQ:AMZN', \n",
    "    lots=15,\n",
    "    parameters=parameters, \n",
    "    candle='1 hour',\n",
    "    initial_funds_virtual=initial_virtual_funds\n",
    ")"
   ]
  },
  {
   "cell_type": "markdown",
   "id": "dfc8989b",
   "metadata": {},
   "source": [
    "### Status"
   ]
  },
  {
   "cell_type": "code",
   "execution_count": 13,
   "id": "5dc631ee",
   "metadata": {},
   "outputs": [
    {
     "data": {
      "text/plain": [
       "{'message': 'STARTING', 'status': 1}"
      ]
     },
     "execution_count": 13,
     "metadata": {},
     "output_type": "execute_result"
    }
   ],
   "source": [
    "connection.get_backtesting_job_status(strategy)"
   ]
  },
  {
   "cell_type": "markdown",
   "id": "64965bbb",
   "metadata": {},
   "source": [
    "### Logs"
   ]
  },
  {
   "cell_type": "code",
   "execution_count": null,
   "id": "0812cb64",
   "metadata": {},
   "outputs": [
    {
     "name": "stdout",
     "output_type": "stream",
     "text": [
      "Looking for a dedicated virtual server to execute your strategy... (10)"
     ]
    },
    {
     "data": {
      "application/vnd.jupyter.widget-view+json": {
       "model_id": "43a943ca0c35487dbd753e303e2b783c",
       "version_major": 2,
       "version_minor": 0
      },
      "text/plain": [
       "Execution Progress:   0%|          | 0/63008100.0 [00:00<?]"
      ]
     },
     "metadata": {},
     "output_type": "display_data"
    },
    {
     "name": "stdout",
     "output_type": "stream",
     "text": [
      "\n",
      "----------------------------------------\n",
      "Faced an error while fetching logs.\n",
      "----------------------------------------\n",
      "\n"
     ]
    }
   ],
   "source": [
    "logs = connection.get_backtesting_logs(strategy)"
   ]
  },
  {
   "cell_type": "code",
   "execution_count": null,
   "id": "1acd7e28",
   "metadata": {
    "scrolled": true
   },
   "outputs": [],
   "source": [
    "print(logs)"
   ]
  },
  {
   "cell_type": "markdown",
   "id": "ef4e927c",
   "metadata": {},
   "source": [
    "### Stop"
   ]
  },
  {
   "cell_type": "code",
   "execution_count": null,
   "id": "03b6c1ba",
   "metadata": {},
   "outputs": [],
   "source": [
    "connection.stop_backtesting_job(strategy)"
   ]
  },
  {
   "cell_type": "markdown",
   "id": "4d02ae57",
   "metadata": {},
   "source": [
    "## Profit and Loss Reports"
   ]
  },
  {
   "cell_type": "code",
   "execution_count": null,
   "id": "b5cebabd",
   "metadata": {
    "scrolled": true
   },
   "outputs": [],
   "source": [
    "pnl_reports = connection.get_backtesting_report_pnl_table(strategy)\n",
    "pnl_reports"
   ]
  },
  {
   "cell_type": "markdown",
   "id": "2f1c6409",
   "metadata": {},
   "source": [
    "## Statistics Reports"
   ]
  },
  {
   "cell_type": "markdown",
   "id": "73c04b07",
   "metadata": {},
   "source": [
    "### Statistics"
   ]
  },
  {
   "cell_type": "code",
   "execution_count": null,
   "id": "f8477204",
   "metadata": {},
   "outputs": [],
   "source": [
    "connection.get_backtesting_report_statistics(strategy)"
   ]
  },
  {
   "cell_type": "markdown",
   "id": "37978a4d",
   "metadata": {},
   "source": [
    "### Quantstats Full Report"
   ]
  },
  {
   "cell_type": "code",
   "execution_count": null,
   "id": "e2ee9bce",
   "metadata": {
    "scrolled": true
   },
   "outputs": [],
   "source": [
    "connection.get_backtesting_report_statistics(strategy, report='full', html_dump=True)"
   ]
  },
  {
   "cell_type": "markdown",
   "id": "678cdcce",
   "metadata": {},
   "source": [
    "## Order History"
   ]
  },
  {
   "cell_type": "code",
   "execution_count": null,
   "id": "54fe8c11",
   "metadata": {},
   "outputs": [],
   "source": [
    "order_history = connection.get_backtesting_report_order_history(strategy)\n",
    "print(order_history)"
   ]
  },
  {
   "cell_type": "markdown",
   "id": "68dae175",
   "metadata": {},
   "source": [
    "## Papertrading"
   ]
  },
  {
   "cell_type": "markdown",
   "id": "c3a8867d-98a2-4926-9b9f-4db379b9f30d",
   "metadata": {},
   "source": [
    "#### NOTE: Ensure your Alpaca account is binded with your AlgoBulls account (as shown below). To know more click [here](https://algobulls.github.io/pyalgotrading/brokers/connecting_alpaca/)."
   ]
  },
  {
   "cell_type": "markdown",
   "id": "b20827a5",
   "metadata": {},
   "source": [
    "### Start"
   ]
  },
  {
   "cell_type": "code",
   "execution_count": null,
   "id": "42c10bb5",
   "metadata": {},
   "outputs": [],
   "source": [
    "connection.papertrade(\n",
    "    strategy=strategy, \n",
    "    start='9:15 -0400', \n",
    "    end='15:00 -0400',  \n",
    "    instruments='NASDAQ:AMZN', \n",
    "    lots=5,\n",
    "    parameters=parameters, \n",
    "    candle='1 minute'\n",
    ")"
   ]
  },
  {
   "cell_type": "markdown",
   "id": "757fb1c6",
   "metadata": {},
   "source": [
    "### Status"
   ]
  },
  {
   "cell_type": "code",
   "execution_count": null,
   "id": "7265a0f2",
   "metadata": {},
   "outputs": [],
   "source": [
    "connection.get_papertrading_job_status(strategy)"
   ]
  },
  {
   "cell_type": "markdown",
   "id": "37c0d0ac",
   "metadata": {},
   "source": [
    "### Logs"
   ]
  },
  {
   "cell_type": "code",
   "execution_count": null,
   "id": "15290341",
   "metadata": {},
   "outputs": [],
   "source": [
    "logs = connection.get_papertrading_logs(strategy)\n",
    "print(logs)"
   ]
  },
  {
   "cell_type": "markdown",
   "id": "245b4d93",
   "metadata": {},
   "source": [
    "### Stop"
   ]
  },
  {
   "cell_type": "code",
   "execution_count": null,
   "id": "191dc7dd",
   "metadata": {},
   "outputs": [],
   "source": [
    "connection.stop_papertrading_job(strategy)"
   ]
  },
  {
   "cell_type": "markdown",
   "id": "99d3e882",
   "metadata": {},
   "source": [
    "### Profit and Loss Reports (Paper Trading)"
   ]
  },
  {
   "cell_type": "code",
   "execution_count": null,
   "id": "0c8c4a8a",
   "metadata": {},
   "outputs": [],
   "source": [
    "pnl_reports = connection.get_papertrading_report_pnl_table(strategy)\n",
    "pnl_reports"
   ]
  },
  {
   "cell_type": "markdown",
   "id": "2e79015e",
   "metadata": {},
   "source": [
    "### Statistics Reports (Paper Trading)"
   ]
  },
  {
   "cell_type": "markdown",
   "id": "474b0fa3",
   "metadata": {},
   "source": [
    "#### Statistics"
   ]
  },
  {
   "cell_type": "code",
   "execution_count": null,
   "id": "10e3013b",
   "metadata": {},
   "outputs": [],
   "source": [
    "connection.get_papertrading_report_statistics(strategy)"
   ]
  },
  {
   "cell_type": "markdown",
   "id": "a813295a",
   "metadata": {},
   "source": [
    "#### Quantstats Full Report"
   ]
  },
  {
   "cell_type": "code",
   "execution_count": null,
   "id": "265cb8bc",
   "metadata": {},
   "outputs": [],
   "source": [
    "connection.get_papertrading_report_statistics(strategy, mode='quantstats', report='full', html_dump=True)"
   ]
  },
  {
   "cell_type": "markdown",
   "id": "49cb9a81",
   "metadata": {},
   "source": [
    "### Order History (Papertrading)"
   ]
  },
  {
   "cell_type": "code",
   "execution_count": null,
   "id": "d18fb124",
   "metadata": {},
   "outputs": [],
   "source": [
    "order_history = connection.get_papertrading_report_order_history(strategy)\n",
    "print(order_history)"
   ]
  },
  {
   "cell_type": "markdown",
   "id": "38e7f216",
   "metadata": {},
   "source": [
    "## Live Trading (Real Trading)"
   ]
  },
  {
   "cell_type": "markdown",
   "id": "1a8889dd-f4d2-4f6b-9c6c-5fcc25fdf340",
   "metadata": {},
   "source": [
    "#### NOTE: Ensure your Alpaca account is binded with your AlgoBulls account (as shown below). To know more click [here](https://algobulls.github.io/pyalgotrading/brokers/connecting_alpaca/)."
   ]
  },
  {
   "cell_type": "markdown",
   "id": "af456c3e",
   "metadata": {},
   "source": [
    "### Start"
   ]
  },
  {
   "cell_type": "code",
   "execution_count": null,
   "id": "02ab44ed-0f32-4daa-bcff-11dfb82164ac",
   "metadata": {},
   "outputs": [],
   "source": [
    "broking_details = {\n",
    "    'brokerName': 'ALPACA LIVE',\n",
    "    'credentialParameters': {}\n",
    "}"
   ]
  },
  {
   "cell_type": "code",
   "execution_count": null,
   "id": "8d233528",
   "metadata": {},
   "outputs": [],
   "source": [
    "connection.realtrade(\n",
    "    strategy=strategy, \n",
    "    start='9:00 -0400', \n",
    "    end='15:30 -0400', \n",
    "    instruments='NASDAQ:AMZN', \n",
    "    lots=5,\n",
    "    parameters=parameters, \n",
    "    candle='1 minute',\n",
    "    broking_details=broking_details\n",
    ")"
   ]
  },
  {
   "cell_type": "markdown",
   "id": "2532a25a",
   "metadata": {},
   "source": [
    "### Status"
   ]
  },
  {
   "cell_type": "code",
   "execution_count": null,
   "id": "555bae34",
   "metadata": {},
   "outputs": [],
   "source": [
    "connection.get_realtrading_job_status(strategy)"
   ]
  },
  {
   "cell_type": "markdown",
   "id": "ec2be17c",
   "metadata": {},
   "source": [
    "### Logs"
   ]
  },
  {
   "cell_type": "code",
   "execution_count": null,
   "id": "86e376ba",
   "metadata": {},
   "outputs": [],
   "source": [
    "logs = connection.get_realtrading_logs(strategy)\n",
    "print(logs)"
   ]
  },
  {
   "cell_type": "markdown",
   "id": "8f93bd8f",
   "metadata": {},
   "source": [
    "### Stop"
   ]
  },
  {
   "cell_type": "code",
   "execution_count": null,
   "id": "c833eb6b",
   "metadata": {},
   "outputs": [],
   "source": [
    "connection.stop_realtrading_job(strategy)"
   ]
  },
  {
   "cell_type": "markdown",
   "id": "2e409e44",
   "metadata": {},
   "source": [
    "### Profit and Loss Reports (Live Trading)"
   ]
  },
  {
   "cell_type": "code",
   "execution_count": null,
   "id": "97c0a5f8",
   "metadata": {},
   "outputs": [],
   "source": [
    "pnl_reports = connection.get_realtrading_report_pnl_table(strategy)\n",
    "pnl_reports"
   ]
  },
  {
   "cell_type": "markdown",
   "id": "ede0736e",
   "metadata": {},
   "source": [
    "### Statistics Reports (Live Trading)"
   ]
  },
  {
   "cell_type": "markdown",
   "id": "91c65443",
   "metadata": {},
   "source": [
    "#### Statistics"
   ]
  },
  {
   "cell_type": "code",
   "execution_count": null,
   "id": "f2c1c376",
   "metadata": {},
   "outputs": [],
   "source": [
    "connection.get_realtrading_report_statistics(strategy)"
   ]
  },
  {
   "cell_type": "markdown",
   "id": "5ff9f9ec",
   "metadata": {},
   "source": [
    "#### Quantstats Full Report"
   ]
  },
  {
   "cell_type": "code",
   "execution_count": null,
   "id": "238c1d1e",
   "metadata": {},
   "outputs": [],
   "source": [
    "connection.get_realtrading_report_statistics(strategy, mode='quantstats', report='full', html_dump=True)"
   ]
  }
 ],
 "metadata": {
  "kernelspec": {
   "display_name": "Python 3 (ipykernel)",
   "language": "python",
   "name": "python3"
  },
  "language_info": {
   "codemirror_mode": {
    "name": "ipython",
    "version": 3
   },
   "file_extension": ".py",
   "mimetype": "text/x-python",
   "name": "python",
   "nbconvert_exporter": "python",
   "pygments_lexer": "ipython3",
   "version": "3.10.13"
  }
 },
 "nbformat": 4,
 "nbformat_minor": 5
}
