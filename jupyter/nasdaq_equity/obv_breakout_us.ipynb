{
 "cells": [
  {
   "cell_type": "markdown",
   "id": "6d0215cb",
   "metadata": {},
   "source": [
    "# Imports"
   ]
  },
  {
   "cell_type": "code",
   "execution_count": null,
   "id": "75c411bf",
   "metadata": {},
   "outputs": [],
   "source": [
    "!pip install --upgrade pyalgotrading"
   ]
  },
  {
   "cell_type": "code",
   "execution_count": null,
   "id": "65c12492",
   "metadata": {},
   "outputs": [],
   "source": [
    "from pyalgotrading.algobulls import AlgoBullsConnection"
   ]
  },
  {
   "cell_type": "markdown",
   "id": "7b86fcaa",
   "metadata": {},
   "source": [
    "# Connection"
   ]
  },
  {
   "cell_type": "code",
   "execution_count": null,
   "id": "30a6024a",
   "metadata": {},
   "outputs": [],
   "source": [
    "connection = AlgoBullsConnection()"
   ]
  },
  {
   "cell_type": "code",
   "execution_count": null,
   "id": "42c4f917",
   "metadata": {},
   "outputs": [],
   "source": [
    "connection.get_token_url()"
   ]
  },
  {
   "cell_type": "code",
   "execution_count": null,
   "id": "1e18dfca",
   "metadata": {},
   "outputs": [],
   "source": [
    "API_TOKEN = \"c3477e22990b004e542ac6eaee59d3cc961816f5\"\n",
    "connection.set_access_token(API_TOKEN)"
   ]
  },
  {
   "cell_type": "markdown",
   "id": "af4715ee-5db5-4ca7-a817-6f1bd64ff6f6",
   "metadata": {},
   "source": [
    "#### NOTE: Before creating or executing the strategy, ensure your Alpaca account is binded with your AlgoBulls account (as shown below). To know more click [here](https://algobulls.github.io/pyalgotrading/brokers/connecting_alpaca/).![Reference](https://algobulls.github.io/pyalgotrading/python_build/imgs_v2/python_build_Oauth_successful.png)"
   ]
  },
  {
   "cell_type": "markdown",
   "id": "654e41e6",
   "metadata": {},
   "source": [
    "# Strategy Creation"
   ]
  },
  {
   "cell_type": "markdown",
   "id": "e01e6145",
   "metadata": {},
   "source": [
    "## Import Strategy from pyalgostrategypool"
   ]
  },
  {
   "cell_type": "code",
   "execution_count": null,
   "id": "0d9800f8",
   "metadata": {},
   "outputs": [],
   "source": [
    "! wget -O obv_breakout_us.py https://raw.githubusercontent.com/algobulls/pyalgostrategypool/master/pyalgostrategypool/obv_breakout/_strategy.py\n",
    "! sed -i '1s/^/from pyalgotrading.strategy import StrategyBase\\n/' obv_breakout_us.py"
   ]
  },
  {
   "cell_type": "code",
   "execution_count": null,
   "id": "6cbd40df",
   "metadata": {},
   "outputs": [],
   "source": [
    "from obv_breakout_us import OBVBreakoutStrategy as strategy_cls"
   ]
  },
  {
   "cell_type": "code",
   "execution_count": null,
   "id": "c384de4f",
   "metadata": {},
   "outputs": [],
   "source": [
    "response = connection.create_strategy(strategy_cls, overwrite=True)\n",
    "response"
   ]
  },
  {
   "cell_type": "code",
   "execution_count": null,
   "id": "bc039bb9",
   "metadata": {},
   "outputs": [],
   "source": [
    "strategy = response['strategyId']"
   ]
  },
  {
   "cell_type": "markdown",
   "id": "a9e1d31a",
   "metadata": {},
   "source": [
    "# Strategy Testing"
   ]
  },
  {
   "cell_type": "markdown",
   "id": "a7b38f61",
   "metadata": {},
   "source": [
    "## Instruments Searching (optional)"
   ]
  },
  {
   "cell_type": "code",
   "execution_count": null,
   "id": "a1184089",
   "metadata": {},
   "outputs": [],
   "source": [
    "instrument = connection.search_instrument('MSFT', exchange='NASDAQ')[0]['value']\n",
    "instrument"
   ]
  },
  {
   "cell_type": "markdown",
   "id": "e5b3be24",
   "metadata": {},
   "source": [
    "## Setup Parameters"
   ]
  },
  {
   "cell_type": "code",
   "execution_count": null,
   "id": "47e34ee8",
   "metadata": {},
   "outputs": [],
   "source": [
    "parameters = {\n",
    "    'OBV_MA_PERIOD': 10,\n",
    "    'LOOKBACK_PERIOD': 20,\n",
    "    'TRAILING_STOP_PERIOD': 10,\n",
    "    'ATR_PERIOD': 14,\n",
    "    'ATR_MULTIPLIER': 2\n",
    "}"
   ]
  },
  {
   "cell_type": "code",
   "execution_count": null,
   "id": "c6bc2776",
   "metadata": {},
   "outputs": [],
   "source": [
    "initial_virtual_funds = 4000     # in dollars"
   ]
  },
  {
   "cell_type": "markdown",
   "id": "f6130ef7",
   "metadata": {},
   "source": [
    "## Backtesting"
   ]
  },
  {
   "cell_type": "markdown",
   "id": "4d1957a8-180b-4eeb-a541-85df96a9bd20",
   "metadata": {},
   "source": [
    "#### NOTE: Ensure your Alpaca account is binded with your AlgoBulls account (as shown below). To know more click [here](https://algobulls.github.io/pyalgotrading/brokers/connecting_alpaca/)."
   ]
  },
  {
   "cell_type": "markdown",
   "id": "f762f9a8",
   "metadata": {},
   "source": [
    "### Start"
   ]
  },
  {
   "cell_type": "code",
   "execution_count": null,
   "id": "a7e94f6c",
   "metadata": {},
   "outputs": [],
   "source": [
    "connection.backtest(\n",
    "    strategy=strategy, \n",
    "    start='2021-08-01 09:15 -0400', \n",
    "    end='2023-07-31 15:30 -0400', \n",
    "    instrument='NASDAQ:MSFT', \n",
    "    lots=5,\n",
    "    parameters=parameters, \n",
    "    candle='1 hour',\n",
    "    initial_funds_virtual=initial_virtual_funds\n",
    ")"
   ]
  },
  {
   "cell_type": "markdown",
   "id": "dfc8989b",
   "metadata": {},
   "source": [
    "### Status"
   ]
  },
  {
   "cell_type": "code",
   "execution_count": null,
   "id": "5dc631ee",
   "metadata": {},
   "outputs": [],
   "source": [
    "connection.get_backtesting_job_status(strategy)"
   ]
  },
  {
   "cell_type": "markdown",
   "id": "64965bbb",
   "metadata": {},
   "source": [
    "### Logs"
   ]
  },
  {
   "cell_type": "code",
   "execution_count": null,
   "id": "96b0f964",
   "metadata": {},
   "outputs": [],
   "source": [
    "logs = connection.get_backtesting_logs(strategy)"
   ]
  },
  {
   "cell_type": "code",
   "execution_count": null,
   "id": "1acd7e28",
   "metadata": {
    "scrolled": true
   },
   "outputs": [],
   "source": [
    "print(logs)"
   ]
  },
  {
   "cell_type": "markdown",
   "id": "ef4e927c",
   "metadata": {},
   "source": [
    "### Stop"
   ]
  },
  {
   "cell_type": "code",
   "execution_count": null,
   "id": "03b6c1ba",
   "metadata": {},
   "outputs": [],
   "source": [
    "connection.stop_backtesting_job(strategy)"
   ]
  },
  {
   "cell_type": "markdown",
   "id": "4d02ae57",
   "metadata": {},
   "source": [
    "## Profit and Loss Reports"
   ]
  },
  {
   "cell_type": "code",
   "execution_count": null,
   "id": "b5cebabd",
   "metadata": {
    "scrolled": true
   },
   "outputs": [],
   "source": [
    "pnl_reports = connection.get_backtesting_report_pnl_table(strategy)\n",
    "pnl_reports"
   ]
  },
  {
   "cell_type": "markdown",
   "id": "2f1c6409",
   "metadata": {},
   "source": [
    "## Statistics Reports"
   ]
  },
  {
   "cell_type": "markdown",
   "id": "73c04b07",
   "metadata": {},
   "source": [
    "### Statistics"
   ]
  },
  {
   "cell_type": "code",
   "execution_count": null,
   "id": "f8477204",
   "metadata": {},
   "outputs": [],
   "source": [
    "connection.get_backtesting_report_statistics(strategy)"
   ]
  },
  {
   "cell_type": "markdown",
   "id": "37978a4d",
   "metadata": {},
   "source": [
    "### Quantstats Full Report"
   ]
  },
  {
   "cell_type": "code",
   "execution_count": null,
   "id": "e2ee9bce",
   "metadata": {
    "scrolled": true
   },
   "outputs": [],
   "source": [
    "connection.get_backtesting_report_statistics(strategy, report='full', html_dump=True)"
   ]
  },
  {
   "cell_type": "markdown",
   "id": "678cdcce",
   "metadata": {},
   "source": [
    "## Order History"
   ]
  },
  {
   "cell_type": "code",
   "execution_count": null,
   "id": "54fe8c11",
   "metadata": {},
   "outputs": [],
   "source": [
    "order_history = connection.get_backtesting_report_order_history(strategy)\n",
    "print(order_history)"
   ]
  },
  {
   "cell_type": "markdown",
   "id": "68dae175",
   "metadata": {},
   "source": [
    "## Papertrading"
   ]
  },
  {
   "cell_type": "markdown",
   "id": "8d8f4166-d889-46d1-81ed-8e07aa44f41f",
   "metadata": {},
   "source": [
    "#### NOTE: Ensure your Alpaca account is binded with your AlgoBulls account (as shown below). To know more click [here](https://algobulls.github.io/pyalgotrading/brokers/connecting_alpaca/)."
   ]
  },
  {
   "cell_type": "markdown",
   "id": "b20827a5",
   "metadata": {},
   "source": [
    "### Start"
   ]
  },
  {
   "cell_type": "code",
   "execution_count": null,
   "id": "f6e28112",
   "metadata": {},
   "outputs": [],
   "source": [
    "connection.papertrade(\n",
    "    strategy=strategy, \n",
    "    start='9:15 -0400', \n",
    "    end='15:00 -0400',  \n",
    "    instruments='NASDAQ:MSFT', \n",
    "    lots=5,\n",
    "    parameters=parameters, \n",
    "    candle='1 minute'\n",
    ")"
   ]
  },
  {
   "cell_type": "markdown",
   "id": "757fb1c6",
   "metadata": {},
   "source": [
    "### Status"
   ]
  },
  {
   "cell_type": "code",
   "execution_count": null,
   "id": "7265a0f2",
   "metadata": {},
   "outputs": [],
   "source": [
    "connection.get_papertrading_job_status(strategy)"
   ]
  },
  {
   "cell_type": "markdown",
   "id": "37c0d0ac",
   "metadata": {},
   "source": [
    "### Logs"
   ]
  },
  {
   "cell_type": "code",
   "execution_count": null,
   "id": "15290341",
   "metadata": {},
   "outputs": [],
   "source": [
    "logs = connection.get_papertrading_logs(strategy)\n",
    "print(logs)"
   ]
  },
  {
   "cell_type": "markdown",
   "id": "245b4d93",
   "metadata": {},
   "source": [
    "### Stop"
   ]
  },
  {
   "cell_type": "code",
   "execution_count": null,
   "id": "191dc7dd",
   "metadata": {},
   "outputs": [],
   "source": [
    "connection.stop_papertrading_job(strategy)"
   ]
  },
  {
   "cell_type": "markdown",
   "id": "99d3e882",
   "metadata": {},
   "source": [
    "### Profit and Loss Reports (Paper Trading)"
   ]
  },
  {
   "cell_type": "code",
   "execution_count": null,
   "id": "0c8c4a8a",
   "metadata": {},
   "outputs": [],
   "source": [
    "pnl_reports = connection.get_papertrading_report_pnl_table(strategy)\n",
    "pnl_reports"
   ]
  },
  {
   "cell_type": "markdown",
   "id": "2e79015e",
   "metadata": {},
   "source": [
    "### Statistics Reports (Paper Trading)"
   ]
  },
  {
   "cell_type": "markdown",
   "id": "474b0fa3",
   "metadata": {},
   "source": [
    "#### Statistics"
   ]
  },
  {
   "cell_type": "code",
   "execution_count": null,
   "id": "10e3013b",
   "metadata": {},
   "outputs": [],
   "source": [
    "connection.get_papertrading_report_statistics(strategy)"
   ]
  },
  {
   "cell_type": "markdown",
   "id": "a813295a",
   "metadata": {},
   "source": [
    "#### Quantstats Full Report"
   ]
  },
  {
   "cell_type": "code",
   "execution_count": null,
   "id": "265cb8bc",
   "metadata": {},
   "outputs": [],
   "source": [
    "connection.get_papertrading_report_statistics(strategy, mode='quantstats', report='full', html_dump=True)"
   ]
  },
  {
   "cell_type": "markdown",
   "id": "49cb9a81",
   "metadata": {},
   "source": [
    "### Order History (Papertrading)"
   ]
  },
  {
   "cell_type": "code",
   "execution_count": null,
   "id": "d18fb124",
   "metadata": {},
   "outputs": [],
   "source": [
    "order_history = connection.get_papertrading_report_order_history(strategy)\n",
    "print(order_history)"
   ]
  },
  {
   "cell_type": "markdown",
   "id": "38e7f216",
   "metadata": {},
   "source": [
    "## Live Trading (Real Trading)"
   ]
  },
  {
   "cell_type": "markdown",
   "id": "23fe7fe7-7e73-4655-87f8-a88a4fb4c3a5",
   "metadata": {},
   "source": [
    "#### NOTE: Ensure your Alpaca account is binded with your AlgoBulls account (as shown below). To know more click [here](https://algobulls.github.io/pyalgotrading/brokers/connecting_alpaca/)."
   ]
  },
  {
   "cell_type": "markdown",
   "id": "af456c3e",
   "metadata": {},
   "source": [
    "### Start"
   ]
  },
  {
   "cell_type": "code",
   "execution_count": null,
   "id": "357525e0-c5d6-431e-909f-e6ae4733e15f",
   "metadata": {},
   "outputs": [],
   "source": [
    "broking_details = {\n",
    "    'brokerName': 'ALPACA LIVE',\n",
    "    'credentialParameters': {}\n",
    "}"
   ]
  },
  {
   "cell_type": "code",
   "execution_count": null,
   "id": "8d233528",
   "metadata": {},
   "outputs": [],
   "source": [
    "connection.realtrade(\n",
    "    strategy=strategy, \n",
    "    start='8:00 -0400', \n",
    "    end='15:00 -0400', \n",
    "    instruments='NASDAQ:MSFT', \n",
    "    lots=5,\n",
    "    parameters=parameters, \n",
    "    candle='1 minute',\n",
    "    broking_details=broking_details\n",
    ")"
   ]
  },
  {
   "cell_type": "markdown",
   "id": "2532a25a",
   "metadata": {},
   "source": [
    "### Status"
   ]
  },
  {
   "cell_type": "code",
   "execution_count": null,
   "id": "555bae34",
   "metadata": {},
   "outputs": [],
   "source": [
    "connection.get_realtrading_job_status(strategy)"
   ]
  },
  {
   "cell_type": "markdown",
   "id": "ec2be17c",
   "metadata": {},
   "source": [
    "### Logs"
   ]
  },
  {
   "cell_type": "code",
   "execution_count": null,
   "id": "86e376ba",
   "metadata": {},
   "outputs": [],
   "source": [
    "logs = connection.get_realtrading_logs(strategy)\n",
    "print(logs)"
   ]
  },
  {
   "cell_type": "markdown",
   "id": "8f93bd8f",
   "metadata": {},
   "source": [
    "### Stop"
   ]
  },
  {
   "cell_type": "code",
   "execution_count": null,
   "id": "c833eb6b",
   "metadata": {},
   "outputs": [],
   "source": [
    "connection.stop_realtrading_job(strategy)"
   ]
  },
  {
   "cell_type": "markdown",
   "id": "2e409e44",
   "metadata": {},
   "source": [
    "### Profit and Loss Reports (Live Trading)"
   ]
  },
  {
   "cell_type": "code",
   "execution_count": null,
   "id": "97c0a5f8",
   "metadata": {},
   "outputs": [],
   "source": [
    "pnl_reports = connection.get_realtrading_report_pnl_table(strategy)\n",
    "pnl_reports"
   ]
  },
  {
   "cell_type": "markdown",
   "id": "ede0736e",
   "metadata": {},
   "source": [
    "### Statistics Reports (Live Trading)"
   ]
  },
  {
   "cell_type": "markdown",
   "id": "91c65443",
   "metadata": {},
   "source": [
    "#### Statistics"
   ]
  },
  {
   "cell_type": "code",
   "execution_count": null,
   "id": "f2c1c376",
   "metadata": {},
   "outputs": [],
   "source": [
    "connection.get_realtrading_report_statistics(strategy)"
   ]
  },
  {
   "cell_type": "markdown",
   "id": "5ff9f9ec",
   "metadata": {},
   "source": [
    "#### Quantstats Full Report"
   ]
  },
  {
   "cell_type": "code",
   "execution_count": null,
   "id": "238c1d1e",
   "metadata": {},
   "outputs": [],
   "source": [
    "connection.get_realtrading_report_statistics(strategy, mode='quantstats', report='full', html_dump=True)"
   ]
  }
 ],
 "metadata": {
  "kernelspec": {
   "display_name": "Python 3 (ipykernel)",
   "language": "python",
   "name": "python3"
  },
  "language_info": {
   "codemirror_mode": {
    "name": "ipython",
    "version": 3
   },
   "file_extension": ".py",
   "mimetype": "text/x-python",
   "name": "python",
   "nbconvert_exporter": "python",
   "pygments_lexer": "ipython3",
   "version": "3.9.12"
  }
 },
 "nbformat": 4,
 "nbformat_minor": 5
}
