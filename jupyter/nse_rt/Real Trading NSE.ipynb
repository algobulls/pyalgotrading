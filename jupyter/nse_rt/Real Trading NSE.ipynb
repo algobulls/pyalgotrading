{
 "cells": [
  {
   "cell_type": "markdown",
   "id": "6d0215cb",
   "metadata": {},
   "source": [
    "# Imports"
   ]
  },
  {
   "cell_type": "code",
   "execution_count": null,
   "id": "a0849a75",
   "metadata": {},
   "outputs": [],
   "source": [
    "!pip install --upgrade pyalgotrading"
   ]
  },
  {
   "cell_type": "code",
   "execution_count": 1,
   "id": "65c12492",
   "metadata": {},
   "outputs": [],
   "source": [
    "from pyalgotrading.algobulls import AlgoBullsConnection"
   ]
  },
  {
   "cell_type": "markdown",
   "id": "7b86fcaa",
   "metadata": {},
   "source": [
    "# Connection"
   ]
  },
  {
   "cell_type": "code",
   "execution_count": 2,
   "id": "30a6024a",
   "metadata": {},
   "outputs": [],
   "source": [
    "connection = AlgoBullsConnection()"
   ]
  },
  {
   "cell_type": "code",
   "execution_count": 3,
   "id": "42c4f917",
   "metadata": {},
   "outputs": [
    {
     "name": "stdout",
     "output_type": "stream",
     "text": [
      "Please login to this URL to get your unique token: https://app.algobulls.com/settings?section=developerOptions\n"
     ]
    }
   ],
   "source": [
    "connection.get_token_url()"
   ]
  },
  {
   "cell_type": "code",
   "execution_count": 4,
   "id": "1e18dfca",
   "metadata": {},
   "outputs": [],
   "source": [
    "API_TOKEN = \"35902fb8aa74af174382e5595a76d46aa341afa3\"\n",
    "connection.set_access_token(API_TOKEN)"
   ]
  },
  {
   "cell_type": "markdown",
   "id": "654e41e6",
   "metadata": {},
   "source": [
    "# Strategy Search and Select"
   ]
  },
  {
   "cell_type": "markdown",
   "id": "f69903b1",
   "metadata": {},
   "source": [
    "### Get all strategies in your accound"
   ]
  },
  {
   "cell_type": "code",
   "execution_count": 5,
   "id": "6cbd40df",
   "metadata": {},
   "outputs": [
    {
     "data": {
      "text/html": [
       "<div>\n",
       "<style scoped>\n",
       "    .dataframe tbody tr th:only-of-type {\n",
       "        vertical-align: middle;\n",
       "    }\n",
       "\n",
       "    .dataframe tbody tr th {\n",
       "        vertical-align: top;\n",
       "    }\n",
       "\n",
       "    .dataframe thead th {\n",
       "        text-align: right;\n",
       "    }\n",
       "</style>\n",
       "<table border=\"1\" class=\"dataframe\">\n",
       "  <thead>\n",
       "    <tr style=\"text-align: right;\">\n",
       "      <th></th>\n",
       "      <th>strategyCode</th>\n",
       "      <th>strategyName</th>\n",
       "    </tr>\n",
       "  </thead>\n",
       "  <tbody>\n",
       "    <tr>\n",
       "      <th>44</th>\n",
       "      <td>6f4e9a45178f42c78fac2d8b9f6bfb6a</td>\n",
       "      <td>Vikram Jagtap</td>\n",
       "    </tr>\n",
       "    <tr>\n",
       "      <th>45</th>\n",
       "      <td>9e05173b35724ca58d32922201bdffef</td>\n",
       "      <td>Vikram Jagtap  MR</td>\n",
       "    </tr>\n",
       "    <tr>\n",
       "      <th>46</th>\n",
       "      <td>25fdb09549fd40259d75d495a949d928</td>\n",
       "      <td>Volatility Trend ATR V2</td>\n",
       "    </tr>\n",
       "    <tr>\n",
       "      <th>47</th>\n",
       "      <td>afd6214c5db94dbeae7502e861fa4ffc</td>\n",
       "      <td>VWAP Crossover NASDAQ NSE</td>\n",
       "    </tr>\n",
       "    <tr>\n",
       "      <th>48</th>\n",
       "      <td>c75f8bac180248b28be4fece1fa9e104</td>\n",
       "      <td>VWAP Crossover-1675926104</td>\n",
       "    </tr>\n",
       "  </tbody>\n",
       "</table>\n",
       "</div>"
      ],
      "text/plain": [
       "                        strategyCode               strategyName\n",
       "44  6f4e9a45178f42c78fac2d8b9f6bfb6a              Vikram Jagtap\n",
       "45  9e05173b35724ca58d32922201bdffef          Vikram Jagtap  MR\n",
       "46  25fdb09549fd40259d75d495a949d928    Volatility Trend ATR V2\n",
       "47  afd6214c5db94dbeae7502e861fa4ffc  VWAP Crossover NASDAQ NSE\n",
       "48  c75f8bac180248b28be4fece1fa9e104  VWAP Crossover-1675926104"
      ]
     },
     "execution_count": 5,
     "metadata": {},
     "output_type": "execute_result"
    }
   ],
   "source": [
    "all_strategies = connection.get_all_strategies()\n",
    "all_strategies.tail()"
   ]
  },
  {
   "cell_type": "markdown",
   "id": "09bf246f",
   "metadata": {},
   "source": [
    "### Find the strategy you want to run"
   ]
  },
  {
   "cell_type": "markdown",
   "id": "9d6362e5",
   "metadata": {},
   "source": [
    "#### Name of the strategy you want to run"
   ]
  },
  {
   "cell_type": "code",
   "execution_count": 6,
   "id": "114093b0",
   "metadata": {},
   "outputs": [],
   "source": [
    "strategy_name = 'Bollinger Bands 3 Months Validation'"
   ]
  },
  {
   "cell_type": "code",
   "execution_count": 7,
   "id": "c384de4f",
   "metadata": {},
   "outputs": [
    {
     "data": {
      "text/html": [
       "<div>\n",
       "<style scoped>\n",
       "    .dataframe tbody tr th:only-of-type {\n",
       "        vertical-align: middle;\n",
       "    }\n",
       "\n",
       "    .dataframe tbody tr th {\n",
       "        vertical-align: top;\n",
       "    }\n",
       "\n",
       "    .dataframe thead th {\n",
       "        text-align: right;\n",
       "    }\n",
       "</style>\n",
       "<table border=\"1\" class=\"dataframe\">\n",
       "  <thead>\n",
       "    <tr style=\"text-align: right;\">\n",
       "      <th></th>\n",
       "      <th>strategyCode</th>\n",
       "      <th>strategyName</th>\n",
       "    </tr>\n",
       "  </thead>\n",
       "  <tbody>\n",
       "    <tr>\n",
       "      <th>2</th>\n",
       "      <td>7b3aca140b3545f394b176fdc8f92408</td>\n",
       "      <td>Bollinger Bands 3 Months Validation</td>\n",
       "    </tr>\n",
       "  </tbody>\n",
       "</table>\n",
       "</div>"
      ],
      "text/plain": [
       "                       strategyCode                         strategyName\n",
       "2  7b3aca140b3545f394b176fdc8f92408  Bollinger Bands 3 Months Validation"
      ]
     },
     "execution_count": 7,
     "metadata": {},
     "output_type": "execute_result"
    }
   ],
   "source": [
    "response = all_strategies.loc[all_strategies['strategyName'] == strategy_name]\n",
    "response"
   ]
  },
  {
   "cell_type": "code",
   "execution_count": 8,
   "id": "bc039bb9",
   "metadata": {},
   "outputs": [
    {
     "data": {
      "text/plain": [
       "'7b3aca140b3545f394b176fdc8f92408'"
      ]
     },
     "execution_count": 8,
     "metadata": {},
     "output_type": "execute_result"
    }
   ],
   "source": [
    "strategy = response.iloc[0]['strategyCode']\n",
    "strategy"
   ]
  },
  {
   "cell_type": "markdown",
   "id": "a9e1d31a",
   "metadata": {},
   "source": [
    "# Strategy Testing"
   ]
  },
  {
   "cell_type": "markdown",
   "id": "a7b38f61",
   "metadata": {},
   "source": [
    "## Instruments Searching (optional)"
   ]
  },
  {
   "cell_type": "code",
   "execution_count": 9,
   "id": "a1184089",
   "metadata": {},
   "outputs": [
    {
     "data": {
      "text/plain": [
       "'NSE:IDEA'"
      ]
     },
     "execution_count": 9,
     "metadata": {},
     "output_type": "execute_result"
    }
   ],
   "source": [
    "instrument = connection.search_instrument('IDEA', exchange='NSE')[0]['value']\n",
    "instrument"
   ]
  },
  {
   "cell_type": "markdown",
   "id": "381bd6fc",
   "metadata": {},
   "source": [
    "## Setup Parameters"
   ]
  },
  {
   "cell_type": "markdown",
   "id": "a3e5c74c",
   "metadata": {},
   "source": [
    "#### You need to add the broker and broking credentials from algobulls website"
   ]
  },
  {
   "cell_type": "code",
   "execution_count": 10,
   "id": "f2bd9d16",
   "metadata": {},
   "outputs": [],
   "source": [
    "broking_details = {\n",
    "   'brokerName': 'IIFL',\n",
    "    'credentialParameters':{}  \n",
    "}"
   ]
  },
  {
   "cell_type": "code",
   "execution_count": 11,
   "id": "47e34ee8",
   "metadata": {},
   "outputs": [],
   "source": [
    "parameters = {\n",
    "   'TIMEPERIOD_FAST': 12,\n",
    "   'TIMEPERIOD_SLOW': 26,\n",
    "   'TIMEPERIOD_SIGNAL': 9,\n",
    "}"
   ]
  },
  {
   "cell_type": "markdown",
   "id": "0ffda2b8",
   "metadata": {},
   "source": [
    "## Realtrading"
   ]
  },
  {
   "cell_type": "markdown",
   "id": "7dd67d77",
   "metadata": {},
   "source": [
    "### Start"
   ]
  },
  {
   "cell_type": "code",
   "execution_count": 12,
   "id": "1421051e",
   "metadata": {},
   "outputs": [
    {
     "name": "stdout",
     "output_type": "stream",
     "text": [
      "Setting Strategy Config... Success.\n",
      "Submitting REALTRADING job... Success.\n"
     ]
    }
   ],
   "source": [
    "connection.realtrade(\n",
    "    strategy=strategy, \n",
    "    start='9:15 +0530', \n",
    "    end='15:00 +0530', \n",
    "    instruments='NSE:IDEA', \n",
    "    lots=5,\n",
    "    parameters=parameters, \n",
    "    candle='1 minute',\n",
    "    broking_details=broking_details\n",
    ")"
   ]
  },
  {
   "cell_type": "markdown",
   "id": "fa7e9909",
   "metadata": {},
   "source": [
    "### Status"
   ]
  },
  {
   "cell_type": "code",
   "execution_count": 14,
   "id": "d2eb4569",
   "metadata": {},
   "outputs": [
    {
     "data": {
      "text/plain": [
       "{'message': 'STARTED', 'status': 2}"
      ]
     },
     "execution_count": 14,
     "metadata": {},
     "output_type": "execute_result"
    }
   ],
   "source": [
    "connection.get_realtrading_job_status(strategy)"
   ]
  },
  {
   "cell_type": "markdown",
   "id": "654b610f",
   "metadata": {},
   "source": [
    "### Logs\n",
    "Note: Use this to check the latest log messages given by the strategy"
   ]
  },
  {
   "cell_type": "code",
   "execution_count": null,
   "id": "cfbd2b2e",
   "metadata": {},
   "outputs": [],
   "source": [
    "logs = connection.get_realtrading_logs(strategy)\n",
    "print(logs)"
   ]
  },
  {
   "cell_type": "markdown",
   "id": "b0dfeabe",
   "metadata": {},
   "source": [
    "### Stop\n",
    "\n",
    "Note: Use this only if you want to stop the strategy prematurely"
   ]
  },
  {
   "cell_type": "code",
   "execution_count": 16,
   "id": "608b0bd6",
   "metadata": {},
   "outputs": [
    {
     "name": "stdout",
     "output_type": "stream",
     "text": [
      "Stopping REALTRADING job... Success.\n"
     ]
    }
   ],
   "source": [
    "connection.stop_realtrading_job(strategy)"
   ]
  },
  {
   "cell_type": "markdown",
   "id": "3f967efe",
   "metadata": {},
   "source": [
    "### Order History (Realtrading)"
   ]
  },
  {
   "cell_type": "code",
   "execution_count": null,
   "id": "cf92bbb2",
   "metadata": {},
   "outputs": [],
   "source": [
    "order_history = connection.get_realtrading_report_order_history(strategy)\n",
    "print(order_history)"
   ]
  },
  {
   "cell_type": "markdown",
   "id": "89f45388",
   "metadata": {},
   "source": [
    "### Profit and Loss Reports (Realtrading)"
   ]
  },
  {
   "cell_type": "code",
   "execution_count": null,
   "id": "b6257223",
   "metadata": {},
   "outputs": [],
   "source": [
    "pnl_reports = connection.get_realtrading_report_pnl_table(strategy)\n",
    "pnl_reports"
   ]
  },
  {
   "cell_type": "markdown",
   "id": "9bdfc9ba",
   "metadata": {},
   "source": [
    "### Statistics Reports (Realtrading)"
   ]
  },
  {
   "cell_type": "markdown",
   "id": "60078d7b",
   "metadata": {},
   "source": [
    "#### Statistics"
   ]
  },
  {
   "cell_type": "code",
   "execution_count": null,
   "id": "d683d67c",
   "metadata": {},
   "outputs": [],
   "source": [
    "connection.get_realtrading_report_statistics(strategy)"
   ]
  },
  {
   "cell_type": "markdown",
   "id": "c081e51c",
   "metadata": {},
   "source": [
    "#### Quantstats Full Report"
   ]
  },
  {
   "cell_type": "code",
   "execution_count": null,
   "id": "110c406c",
   "metadata": {},
   "outputs": [],
   "source": [
    "connection.get_realtrading_report_statistics(strategy, mode='quantstats', report='full', html_dump=True)"
   ]
  }
 ],
 "metadata": {
  "kernelspec": {
   "display_name": "Python 3 (ipykernel)",
   "language": "python",
   "name": "python3"
  },
  "language_info": {
   "codemirror_mode": {
    "name": "ipython",
    "version": 3
   },
   "file_extension": ".py",
   "mimetype": "text/x-python",
   "name": "python",
   "nbconvert_exporter": "python",
   "pygments_lexer": "ipython3",
   "version": "3.10.12"
  }
 },
 "nbformat": 4,
 "nbformat_minor": 5
}
